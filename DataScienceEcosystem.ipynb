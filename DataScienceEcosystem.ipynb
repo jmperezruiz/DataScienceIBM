{
 "cells": [
  {
   "cell_type": "markdown",
   "id": "7092218c-810a-4c53-a4fc-cd9733371c13",
   "metadata": {},
   "source": [
    "# Data Science Tools and Ecosystem"
   ]
  },
  {
   "cell_type": "markdown",
   "id": "97008e34-b45f-49d9-97c1-0d76de91605b",
   "metadata": {},
   "source": [
    "In this notebook, Data Science Tools and Ecosystem are summarized."
   ]
  },
  {
   "cell_type": "markdown",
   "id": "15f5e87b-b0b4-4c34-bf30-0b9a6d83c1be",
   "metadata": {},
   "source": [
    "**Objectives**\n",
    "\n",
    "- Learn about the basic concepts of data visualization.\n",
    "- Understand how to use Python libraries for data visualization.\n",
    "- Explore various types of plots and charts\n"
   ]
  },
  {
   "cell_type": "markdown",
   "id": "a668917c-8491-4a67-8d49-a73eb64e19d9",
   "metadata": {},
   "source": [
    "Some of the popular languages that Data Scientists use are:\n",
    "    \n",
    "    \n",
    "    1.Ruby\n",
    "    2.R\n",
    "    3.SQL"
   ]
  },
  {
   "cell_type": "markdown",
   "id": "035ec273-ed22-4105-835c-e8bf1406f872",
   "metadata": {},
   "source": [
    "Some of the commonly used libraries used by Data Scientists include:\n",
    "    \n",
    "    1.Pandas\n",
    "    2.NumPy\n",
    "    3.Matplotlib\n"
   ]
  },
  {
   "cell_type": "markdown",
   "id": "2a9a4c0a-3405-4338-95ff-205b84f6099d",
   "metadata": {},
   "source": [
    "| Data Science Tools |\n",
    "| ------------------ |\n",
    "| Jupyter Notebook   |\n",
    "| RStudio            |\n",
    "| VS Code            |"
   ]
  },
  {
   "cell_type": "markdown",
   "id": "2f636c91-d722-4e93-b614-d526ce76947e",
   "metadata": {},
   "source": [
    "### Below are a few examples of evaluating arithmetic expressions in Python"
   ]
  },
  {
   "cell_type": "markdown",
   "id": "b93a2deb-8295-4055-8454-0c6b07f4b39b",
   "metadata": {},
   "source": [
    " This a simple arithmetic expression to mutiply then add integers"
   ]
  },
  {
   "cell_type": "code",
   "execution_count": 3,
   "id": "a6ff9abb-d838-46d1-acee-fa832c052ae6",
   "metadata": {
    "tags": []
   },
   "outputs": [
    {
     "data": {
      "text/plain": [
       "17"
      ]
     },
     "execution_count": 3,
     "metadata": {},
     "output_type": "execute_result"
    }
   ],
   "source": [
    "(3*4)+5"
   ]
  },
  {
   "cell_type": "markdown",
   "id": "82ca05f1-35a8-4a0a-8423-37d8f4f14c18",
   "metadata": {},
   "source": [
    " This will convert 200 minutes to hours by diving by 60"
   ]
  },
  {
   "cell_type": "code",
   "execution_count": 6,
   "id": "18560270-1f77-4d8b-be40-d84432c2fecc",
   "metadata": {
    "tags": []
   },
   "outputs": [
    {
     "name": "stdout",
     "output_type": "stream",
     "text": [
      "3.3333333333333335\n"
     ]
    }
   ],
   "source": [
    "minutos=200\n",
    "horas= minutos/60\n",
    "print(horas)"
   ]
  },
  {
   "cell_type": "markdown",
   "id": "c45df091-0b0e-4b76-a3fa-1cfaf0da0892",
   "metadata": {},
   "source": [
    "## Author\n",
    "\n",
    "Jose Manuel Perez"
   ]
  },
  {
   "cell_type": "code",
   "execution_count": null,
   "id": "24a9e501-4f75-4d88-8669-0e51779f1e2b",
   "metadata": {},
   "outputs": [],
   "source": []
  }
 ],
 "metadata": {
  "kernelspec": {
   "display_name": "Python 3 (ipykernel)",
   "language": "python",
   "name": "python3"
  },
  "language_info": {
   "codemirror_mode": {
    "name": "ipython",
    "version": 3
   },
   "file_extension": ".py",
   "mimetype": "text/x-python",
   "name": "python",
   "nbconvert_exporter": "python",
   "pygments_lexer": "ipython3",
   "version": "3.11.5"
  }
 },
 "nbformat": 4,
 "nbformat_minor": 5
}
